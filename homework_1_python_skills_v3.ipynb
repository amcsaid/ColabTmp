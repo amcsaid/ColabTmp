{
  "nbformat": 4,
  "nbformat_minor": 0,
  "metadata": {
    "colab": {
      "name": "homework_1_python_skills.ipynb",
      "version": "0.3.2",
      "provenance": []
    },
    "kernelspec": {
      "display_name": "Python 3",
      "language": "python",
      "name": "python3"
    }
  },
  "cells": [
    {
      "metadata": {
        "id": "k3p47S9tkk-z",
        "colab_type": "text"
      },
      "cell_type": "markdown",
      "source": [
        "Before you turn this problem in, make sure everything runs as expected. First, **restart the kernel** (in the menubar, select Kernel$\\rightarrow$Restart) and then **run all cells** (in the menubar, select Cell$\\rightarrow$Run All).\n",
        "\n",
        "Make sure you fill in any place that says `YOUR CODE HERE` or \"YOUR ANSWER HERE\", as well as your name and collaborators below:"
      ]
    },
    {
      "metadata": {
        "id": "A3xzjNYgkk--",
        "colab_type": "code",
        "colab": {}
      },
      "cell_type": "code",
      "source": [
        "NAME = \"Said Amchart\""
      ],
      "execution_count": 0,
      "outputs": []
    },
    {
      "metadata": {
        "id": "JDmIJZivkk_T",
        "colab_type": "text"
      },
      "cell_type": "markdown",
      "source": [
        "---"
      ]
    },
    {
      "metadata": {
        "deletable": false,
        "editable": false,
        "nbgrader": {
          "checksum": "c06998fac8bb5ce0616b1a4e9f83f3c1",
          "grade": false,
          "grade_id": "cell-90e71a34be5a3e42",
          "locked": true,
          "schema_version": 1,
          "solution": false
        },
        "id": "eQkjXRC8kk_W",
        "colab_type": "text"
      },
      "cell_type": "markdown",
      "source": [
        "# Homework 1: Python skills\n",
        "\n",
        "This homework exercise is meant to acclimate students with working knowledge of Python's syntax. Neither the course nor this exercise is intented to teach Python in a Computer Science studies context. Please also complete the intro_to_pandas notebook at the following link. Students are highly encouraged to take a look at ALL of notebooks here, though only the intro_to_pandas notebook is mandatory.\n",
        "\n",
        "https://github.com/DeltaAnalytics/machine_learning_for_good/tree/master/module_1_introduction\n",
        "\n",
        "The functions in this file are imcomplete, but have documentation strings that explain how they should work. Your job is to edit this file to write the bodies of these functions. You may use Google you look up strategies to complete the functions, but you may not copy and paste answers from the internet."
      ]
    },
    {
      "metadata": {
        "deletable": false,
        "editable": false,
        "nbgrader": {
          "checksum": "037960639731cab028030c076de0ecba",
          "grade": false,
          "grade_id": "cell-d6e78740d766825e",
          "locked": true,
          "schema_version": 1,
          "solution": false
        },
        "id": "jGXo6wsBkk_d",
        "colab_type": "text"
      },
      "cell_type": "markdown",
      "source": [
        "### Basic operations\n",
        "\n",
        "You should be able to complete this portion of the homework with basic integer, float, and string operations in Python. Note that the number_list and word_list variables referenced throughout are [-5, 6, 4, 8, 15, 16, 23, 42, 2, 7] and [ \"What\", \"about\", \"the\", \"Spam\", \"sausage\", \"spam\", \"spam\", \"bacon\", \"spam\", \"tomato\", \"and\", \"spam\"] respectively."
      ]
    },
    {
      "metadata": {
        "deletable": false,
        "nbgrader": {
          "checksum": "d1853ff74dc88a4750aab52e8a0713e0",
          "grade": false,
          "grade_id": "cell-718e69e9a854221e",
          "locked": false,
          "schema_version": 1,
          "solution": true
        },
        "id": "-BBg3Bgvkk_h",
        "colab_type": "code",
        "colab": {}
      },
      "cell_type": "code",
      "source": [
        "def all_odd(number_list):\n",
        "    \"\"\"Complete the function so it takes a list of numbers and returns a new \n",
        "    list with only the odd numbers.\n",
        "\n",
        "    For example:\n",
        "        >>> all_odd(number_list)\n",
        "        [-5, 15, 23, 7]\n",
        "    \n",
        "    \"\"\"\n",
        "# YOUR CODE HERE\n",
        "    odd=[]\n",
        "    for num in number_list:\n",
        "        if num % 2 != 0:\n",
        "          odd.append(num)\n",
        "    return odd\n",
        "\n",
        "    raise NotImplementedError()"
      ],
      "execution_count": 0,
      "outputs": []
    },
    {
      "metadata": {
        "deletable": false,
        "editable": false,
        "nbgrader": {
          "checksum": "e800b19cf9ba768dbd5829d789b73bdb",
          "grade": true,
          "grade_id": "cell-a201a353f244090a",
          "locked": true,
          "points": 1,
          "schema_version": 1,
          "solution": false
        },
        "id": "HIHsI0SWkk_t",
        "colab_type": "code",
        "colab": {}
      },
      "cell_type": "code",
      "source": [
        "####################################INTENTIONALLY BLANK FOR TESTING####################################"
      ],
      "execution_count": 0,
      "outputs": []
    },
    {
      "metadata": {
        "deletable": false,
        "nbgrader": {
          "checksum": "f74af409f44ee1a120c473da0231d223",
          "grade": false,
          "grade_id": "cell-0e6c6d55d47a9753",
          "locked": false,
          "schema_version": 1,
          "solution": true
        },
        "id": "GrkCu1Ydkk_4",
        "colab_type": "code",
        "colab": {}
      },
      "cell_type": "code",
      "source": [
        "def all_even(number_list):\n",
        "    \"\"\"\n",
        "    Complete the function so it takes a list of numbers and returns a new list \n",
        "    with only the even numbers.\n",
        "\n",
        "    For example:\n",
        "        >>> all_even(number_list)\n",
        "        [6, 4, 8, 16, 42, 2]\n",
        "        \"\"\"\n",
        "# YOUR CODE HERE\n",
        "    even=[]\n",
        "    for num in number_list:\n",
        "        if num % 2 == 0:\n",
        "          even.append(num)\n",
        "    return even\n",
        "    raise NotImplementedError()"
      ],
      "execution_count": 0,
      "outputs": []
    },
    {
      "metadata": {
        "deletable": false,
        "editable": false,
        "nbgrader": {
          "checksum": "0d4beb1fe2bb80f6a79e80bb4b1ff097",
          "grade": true,
          "grade_id": "cell-d3624440658f0ac4",
          "locked": true,
          "points": 1,
          "schema_version": 1,
          "solution": false
        },
        "id": "cGEiCHrPklAF",
        "colab_type": "code",
        "colab": {}
      },
      "cell_type": "code",
      "source": [
        "####################################INTENTIONALLY BLANK FOR TESTING####################################"
      ],
      "execution_count": 0,
      "outputs": []
    },
    {
      "metadata": {
        "deletable": false,
        "nbgrader": {
          "checksum": "4040250fbc6c80febeb37931b7379b95",
          "grade": false,
          "grade_id": "cell-5fab3ee35e502b3d",
          "locked": false,
          "schema_version": 1,
          "solution": true
        },
        "id": "UGuuxW0dklAX",
        "colab_type": "code",
        "colab": {}
      },
      "cell_type": "code",
      "source": [
        "def long_words(word_list):\n",
        "    \"\"\"Complete the function so it takes a list of strings and returns a new \n",
        "    list with all strings of length 4 or greater.\n",
        "\n",
        "    For example:\n",
        "        >>> long_words(word_list)\n",
        "        ['What', 'about', 'Spam', 'sausage', 'spam', 'spam', 'bacon', 'spam', 'tomato', 'spam']\n",
        "    \"\"\"\n",
        "# YOUR CODE HERE\n",
        "    long=[]\n",
        "    for word in word_list:\n",
        "        wordlen = len(word)\n",
        "        if wordlen >= 4:\n",
        "          long.append(word)\n",
        "    return long\n",
        "    raise NotImplementedError()"
      ],
      "execution_count": 0,
      "outputs": []
    },
    {
      "metadata": {
        "deletable": false,
        "editable": false,
        "nbgrader": {
          "checksum": "c3254c291c5e4228f802b8d3b59ece12",
          "grade": true,
          "grade_id": "cell-082fff19b482225f",
          "locked": true,
          "points": 1,
          "schema_version": 1,
          "solution": false
        },
        "id": "Q58xMF0vklAu",
        "colab_type": "code",
        "colab": {}
      },
      "cell_type": "code",
      "source": [
        "####################################INTENTIONALLY BLANK FOR TESTING####################################"
      ],
      "execution_count": 0,
      "outputs": []
    },
    {
      "metadata": {
        "deletable": false,
        "nbgrader": {
          "checksum": "76d3f4a350215bec1235a2f195d2cce1",
          "grade": false,
          "grade_id": "cell-32db7423da00a68e",
          "locked": false,
          "schema_version": 1,
          "solution": true
        },
        "id": "0KUyJPZYklBB",
        "colab_type": "code",
        "colab": {}
      },
      "cell_type": "code",
      "source": [
        "def smallest(number_list):\n",
        "    \"\"\"\n",
        "    Complete the function so it finds the smallest element in a list of integers and returns it.\n",
        "    \n",
        "    For example:\n",
        "        >>> smallest(number_list)\n",
        "        -5\n",
        "    \"\"\"\n",
        "# YOUR CODE HERE\n",
        "    small=0\n",
        "    for num in number_list:\n",
        "        if num < small:\n",
        "          samll = num\n",
        "    return small\n",
        "    raise NotImplementedError()"
      ],
      "execution_count": 0,
      "outputs": []
    },
    {
      "metadata": {
        "deletable": false,
        "editable": false,
        "nbgrader": {
          "checksum": "565d996606e674805556f3f65fbabd6c",
          "grade": true,
          "grade_id": "cell-6cd34bada909a524",
          "locked": true,
          "points": 1,
          "schema_version": 1,
          "solution": false
        },
        "id": "fPk8ZBOoklBU",
        "colab_type": "code",
        "colab": {}
      },
      "cell_type": "code",
      "source": [
        "####################################INTENTIONALLY BLANK FOR TESTING####################################"
      ],
      "execution_count": 0,
      "outputs": []
    },
    {
      "metadata": {
        "deletable": false,
        "nbgrader": {
          "checksum": "3b6c393b0be8d01442cef820d5c665eb",
          "grade": false,
          "grade_id": "cell-760de9b0347515be",
          "locked": false,
          "schema_version": 1,
          "solution": true
        },
        "id": "DC0Yoe7lklBe",
        "colab_type": "code",
        "colab": {}
      },
      "cell_type": "code",
      "source": [
        "def largest(number_list):\n",
        "    \"\"\"\n",
        "    Complete the function so it finds the largest element in a list of \n",
        "    integers and returns it.\n",
        "    \n",
        "    For example:\n",
        "        >>> largest(number_list)\n",
        "        42\n",
        "    \"\"\"\n",
        "# YOUR CODE HERE\n",
        "    large=0\n",
        "    for num in number_list:\n",
        "        if num > large:\n",
        "          large = num\n",
        "    return large\n",
        "    raise NotImplementedError()"
      ],
      "execution_count": 0,
      "outputs": []
    },
    {
      "metadata": {
        "deletable": false,
        "editable": false,
        "nbgrader": {
          "checksum": "3bc84a7eed5b42e2c9071ef83fe7d971",
          "grade": true,
          "grade_id": "cell-80c372b240567d51",
          "locked": true,
          "points": 1,
          "schema_version": 1,
          "solution": false
        },
        "id": "1wnw5g81klBq",
        "colab_type": "code",
        "colab": {}
      },
      "cell_type": "code",
      "source": [
        "####################################INTENTIONALLY BLANK FOR TESTING####################################"
      ],
      "execution_count": 0,
      "outputs": []
    },
    {
      "metadata": {
        "deletable": false,
        "nbgrader": {
          "checksum": "42dd856f3eab69ddaf2e17239546a0ef",
          "grade": false,
          "grade_id": "cell-3a91fc78f968a4fc",
          "locked": false,
          "schema_version": 1,
          "solution": true
        },
        "id": "mm2joSDLklB3",
        "colab_type": "code",
        "colab": {}
      },
      "cell_type": "code",
      "source": [
        "def halvesies(number_list):\n",
        "    \"\"\"\n",
        "    Complete the function so it takes a list of numbers and returns a new list \n",
        "    of all those numbers divided by two.\n",
        "    \n",
        "    For example:\n",
        "        >>> halvesies(number_list)\n",
        "        [-2.5, 3.0, 2.0, 4.0, 7.5, 8.0, 11.5, 21.0, 1.0, 3.5]\n",
        "    \"\"\"\n",
        "# YOUR CODE HERE\n",
        "    half=[]\n",
        "    for num in number_list:\n",
        "        half.append(num/2)\n",
        "    return even\n",
        "    raise NotImplementedError()"
      ],
      "execution_count": 0,
      "outputs": []
    },
    {
      "metadata": {
        "deletable": false,
        "editable": false,
        "nbgrader": {
          "checksum": "70356c1104126d2b1a18012cdd68777a",
          "grade": true,
          "grade_id": "cell-e92d15aa2d302876",
          "locked": true,
          "points": 1,
          "schema_version": 1,
          "solution": false
        },
        "id": "GsMIVnEWklCH",
        "colab_type": "code",
        "colab": {}
      },
      "cell_type": "code",
      "source": [
        "####################################INTENTIONALLY BLANK FOR TESTING####################################"
      ],
      "execution_count": 0,
      "outputs": []
    },
    {
      "metadata": {
        "deletable": false,
        "nbgrader": {
          "checksum": "c753fe75da347f6af56b129840075c68",
          "grade": false,
          "grade_id": "cell-c2b1ee18b787e16a",
          "locked": false,
          "schema_version": 1,
          "solution": true
        },
        "id": "9VbJiPihklCT",
        "colab_type": "code",
        "colab": {}
      },
      "cell_type": "code",
      "source": [
        "def word_lengths(word_list):\n",
        "    \"\"\"\n",
        "    Complete the function so it takes a list of words and returns a \n",
        "    list of all the lengths of those words.\n",
        "\n",
        "    For example:\n",
        "        >>> word_lengths(word_list)\n",
        "        [4, 5, 3, 4, 7, 4, 4, 5, 4, 6, 3, 4]\n",
        "    \"\"\"\n",
        "# YOUR CODE HERE\n",
        "    wlen=[]\n",
        "    for word in word_list:\n",
        "        wlen.append(len(word))\n",
        "    return wlen\n",
        "    raise NotImplementedError()"
      ],
      "execution_count": 0,
      "outputs": []
    },
    {
      "metadata": {
        "deletable": false,
        "editable": false,
        "nbgrader": {
          "checksum": "a3388481ad14ae6be229b28425e9fee8",
          "grade": true,
          "grade_id": "cell-f7cd47b24d9d3cae",
          "locked": true,
          "points": 1,
          "schema_version": 1,
          "solution": false
        },
        "id": "dT9xQ0QJklCh",
        "colab_type": "code",
        "colab": {}
      },
      "cell_type": "code",
      "source": [
        "####################################INTENTIONALLY BLANK FOR TESTING####################################"
      ],
      "execution_count": 0,
      "outputs": []
    },
    {
      "metadata": {
        "deletable": false,
        "nbgrader": {
          "checksum": "99793bda33aabd6e2d45188e2fa8e1c9",
          "grade": false,
          "grade_id": "cell-30d627981a261d27",
          "locked": false,
          "schema_version": 1,
          "solution": true
        },
        "id": "reyqBLCzklCq",
        "colab_type": "code",
        "colab": {}
      },
      "cell_type": "code",
      "source": [
        "def sum_numbers(number_list):\n",
        "    \"\"\"\n",
        "    Complete the function (using iteration) so it sums all the numbers in a list.\n",
        "\n",
        "    For example:\n",
        "        >>> sum_numbers(number_list)\n",
        "        118\n",
        "\n",
        "    \"\"\"\n",
        "# YOUR CODE HERE\n",
        "    sum=0\n",
        "    for num in number_list:\n",
        "        sum+=num\n",
        "    return sum\n",
        "    raise NotImplementedError()"
      ],
      "execution_count": 0,
      "outputs": []
    },
    {
      "metadata": {
        "deletable": false,
        "editable": false,
        "nbgrader": {
          "checksum": "0306d6a18b8ffa7d1f7a67af7a2e4892",
          "grade": true,
          "grade_id": "cell-3116d2183245df78",
          "locked": true,
          "points": 1,
          "schema_version": 1,
          "solution": false
        },
        "id": "NxUX6aE7klC9",
        "colab_type": "code",
        "colab": {}
      },
      "cell_type": "code",
      "source": [
        "####################################INTENTIONALLY BLANK FOR TESTING####################################"
      ],
      "execution_count": 0,
      "outputs": []
    },
    {
      "metadata": {
        "deletable": false,
        "nbgrader": {
          "checksum": "875b9b0b8606281a993f0b6e9abe2056",
          "grade": false,
          "grade_id": "cell-bde13ae8e6e08a27",
          "locked": false,
          "schema_version": 1,
          "solution": true
        },
        "id": "L5qXoK__klDZ",
        "colab_type": "code",
        "colab": {}
      },
      "cell_type": "code",
      "source": [
        "def mult_numbers(number_list):\n",
        "    \"\"\"\n",
        "    Complete the function so it multiplies all the numbers in a list together.\n",
        "\n",
        "    For example:\n",
        "        >>> mult_numbers(number_list)\n",
        "        -3115929600\n",
        "\n",
        "    \"\"\"\n",
        "# YOUR CODE HERE\n",
        "    mul=1\n",
        "    for num in number_list:\n",
        "        mul*=num\n",
        "    return mul\n",
        "    raise NotImplementedError()"
      ],
      "execution_count": 0,
      "outputs": []
    },
    {
      "metadata": {
        "deletable": false,
        "editable": false,
        "nbgrader": {
          "checksum": "bd28c5f0f98856b65b84a299652ef192",
          "grade": true,
          "grade_id": "cell-74b7a121ff3db201",
          "locked": true,
          "points": 1,
          "schema_version": 1,
          "solution": false
        },
        "id": "B5nQluPBklDo",
        "colab_type": "code",
        "colab": {}
      },
      "cell_type": "code",
      "source": [
        "####################################INTENTIONALLY BLANK FOR TESTING####################################"
      ],
      "execution_count": 0,
      "outputs": []
    },
    {
      "metadata": {
        "deletable": false,
        "nbgrader": {
          "checksum": "56a6e18dcc66cfbd014f4803f4122c88",
          "grade": false,
          "grade_id": "cell-d863e2f2d4249bf5",
          "locked": false,
          "schema_version": 1,
          "solution": true
        },
        "id": "EaXk00aKklDx",
        "colab_type": "code",
        "colab": {}
      },
      "cell_type": "code",
      "source": [
        "def join_strings(word_list):\n",
        "    \"\"\"Complete the function so it joins all the strings in a list together \n",
        "    (without using the join method) and returns a single string.\n",
        "\n",
        "    For example:\n",
        "        >>> join_strings(word_list)\n",
        "        'WhatabouttheSpamsausagespamspambaconspamtomatoandspam'\n",
        "    \"\"\"\n",
        "# YOUR CODE HERE\n",
        "    onestring=''\n",
        "    for word in word_list:\n",
        "        onestring+=word\n",
        "    return onestring\n",
        "    raise NotImplementedError()"
      ],
      "execution_count": 0,
      "outputs": []
    },
    {
      "metadata": {
        "deletable": false,
        "editable": false,
        "nbgrader": {
          "checksum": "e53adddc1e1b2d806470c77575dfc3e0",
          "grade": true,
          "grade_id": "cell-90e51adc0dd03ef2",
          "locked": true,
          "points": 1,
          "schema_version": 1,
          "solution": false
        },
        "id": "65tQTTe0klED",
        "colab_type": "code",
        "colab": {}
      },
      "cell_type": "code",
      "source": [
        "####################################INTENTIONALLY BLANK FOR TESTING####################################"
      ],
      "execution_count": 0,
      "outputs": []
    },
    {
      "metadata": {
        "deletable": false,
        "nbgrader": {
          "checksum": "e970e76ec170fee09810ebab908e66c6",
          "grade": false,
          "grade_id": "cell-0dc43ab4c3d5f7ad",
          "locked": false,
          "schema_version": 1,
          "solution": true
        },
        "id": "_cKneZIoklFk",
        "colab_type": "code",
        "colab": {}
      },
      "cell_type": "code",
      "source": [
        "def average(number_list):\n",
        "    \"\"\"\n",
        "    Complete the function so it takes a list of integers and \n",
        "    returns the average (without using python's built-in avg method)\n",
        "\n",
        "    For example:\n",
        "        >>> average(number_list)\n",
        "        11.8\n",
        "    \"\"\"\n",
        "# YOUR CODE HERE\n",
        "    sum=0\n",
        "    for num in number_list:\n",
        "        sum+=num\n",
        "    avg=sum/len(number_list)\n",
        "    return avg\n",
        "    raise NotImplementedError()"
      ],
      "execution_count": 0,
      "outputs": []
    },
    {
      "metadata": {
        "deletable": false,
        "editable": false,
        "nbgrader": {
          "checksum": "e9ed4c6816f63b20696a3585e58c54cf",
          "grade": true,
          "grade_id": "cell-f76c7deec802d188",
          "locked": true,
          "points": 1,
          "schema_version": 1,
          "solution": false
        },
        "id": "ejbLPfa_klFt",
        "colab_type": "code",
        "colab": {}
      },
      "cell_type": "code",
      "source": [
        "####################################INTENTIONALLY BLANK FOR TESTING####################################"
      ],
      "execution_count": 0,
      "outputs": []
    },
    {
      "metadata": {
        "deletable": false,
        "editable": false,
        "nbgrader": {
          "checksum": "f577792e4f1c0487f8891da86415371a",
          "grade": false,
          "grade_id": "cell-bb3f2cb68d0a896b",
          "locked": true,
          "schema_version": 1,
          "solution": false
        },
        "id": "NqCAjSFLklFy",
        "colab_type": "text"
      },
      "cell_type": "markdown",
      "source": [
        "### Data Structures\n",
        "\n",
        "You should be able to solve these problems using Python lists and dictionaries. Some of these problems could be solved with Python sets (a more advanced data type). If you've learned about sets, you may use them as well."
      ]
    },
    {
      "metadata": {
        "deletable": false,
        "nbgrader": {
          "checksum": "89e0652be7bfc727ba60a164a91965d1",
          "grade": false,
          "grade_id": "cell-6e4a2a83e1dfcdf7",
          "locked": false,
          "schema_version": 1,
          "solution": true
        },
        "id": "CZNjG_K1klF3",
        "colab_type": "code",
        "colab": {}
      },
      "cell_type": "code",
      "source": [
        "def count_unique(string1):\n",
        "    \"\"\"Count unique words in a string.\n",
        "\n",
        "    This function should take a single string and return a dictionary\n",
        "    that has all of the distinct words as keys, and the number of times\n",
        "    that word appears in the string.\n",
        "\n",
        "    For example:\n",
        "        >>> print_dict(count_unique(\"each word appears once\"))\n",
        "        {'appears': 1, 'each': 1, 'once': 1, 'word': 1}\n",
        "  \n",
        "    Words that appear more than once should be counted each time:\n",
        "\n",
        "        >>> print_dict(count_unique(\"rose is a rose is a rose\"))\n",
        "        {'a': 2, 'is': 2, 'rose': 3}\n",
        "    \n",
        "    It's fine to consider punctuation part of a word (e.g., a comma\n",
        "    at the end of a word can be counted as part of that word) and\n",
        "    to consider differently-capitalized words as different:\n",
        "\n",
        "        >>> print_dict(count_unique(\"Porcupine see, porcupine do.\"))\n",
        "        {'Porcupine': 1, 'do.': 1, 'porcupine': 1, 'see,': 1}\n",
        "    \"\"\"\n",
        "# YOUR CODE HERE\n",
        "    splited_string = string1.split(' ')\n",
        "    unique_dic = {}\n",
        "    for word in splited_string:\n",
        "      if word in unique_dic:\n",
        "        unique_dic[word]+=1\n",
        "      else:\n",
        "        unique_dic[word]=1\n",
        "    return unique_dic\n",
        "    raise NotImplementedError()"
      ],
      "execution_count": 0,
      "outputs": []
    },
    {
      "metadata": {
        "deletable": false,
        "editable": false,
        "nbgrader": {
          "checksum": "016de5bc7bbe876a00c6055476e54963",
          "grade": true,
          "grade_id": "cell-f0818786517aa930",
          "locked": true,
          "points": 1,
          "schema_version": 1,
          "solution": false
        },
        "id": "pKnNfh1eklGJ",
        "colab_type": "code",
        "colab": {}
      },
      "cell_type": "code",
      "source": [
        "####################################INTENTIONALLY BLANK FOR TESTING####################################"
      ],
      "execution_count": 0,
      "outputs": []
    },
    {
      "metadata": {
        "deletable": false,
        "nbgrader": {
          "checksum": "8557c388190a979275333f699246769c",
          "grade": false,
          "grade_id": "cell-de588784c35973c2",
          "locked": false,
          "schema_version": 1,
          "solution": true
        },
        "id": "F9v0J6UEklGT",
        "colab_type": "code",
        "colab": {}
      },
      "cell_type": "code",
      "source": [
        "def common_items(list1, list2):\n",
        "    \"\"\"Produce the set of common items in two lists.\n",
        "    \n",
        "    Given two lists, return a list of the common items shared between \n",
        "    the lists.\n",
        "\n",
        "    IMPORTANT: you may not use 'if ___ in ___' or the method 'index'.\n",
        "    \n",
        "    For example:\n",
        "        >>> sorted(common_items([1, 2, 3, 4], [1, 2]))\n",
        "        [1, 2]\n",
        "    If an item appears more than once in both lists, return it each\n",
        "    time:\n",
        "        >>> sorted(common_items([1, 2, 3, 4], [1, 1, 2, 2]))\n",
        "        [1, 1, 2, 2]\n",
        "    (And the order of which has the multiples shouldn't matter, either):\n",
        "        >>> sorted(common_items([1, 1, 2, 2], [1, 2, 3, 4]))\n",
        "        [1, 1, 2, 2]\n",
        "    \"\"\"\n",
        "# YOUR CODE HERE\n",
        "    common_list = []\n",
        "    for item1 in list1:\n",
        "      for item2 in list2:\n",
        "        if item1 == intem2:\n",
        "          common_list.append(item1)\n",
        "    return common_list\n",
        "    raise NotImplementedError()"
      ],
      "execution_count": 0,
      "outputs": []
    },
    {
      "metadata": {
        "deletable": false,
        "editable": false,
        "nbgrader": {
          "checksum": "6a2ea1a86b5219c099427146f930d5ec",
          "grade": true,
          "grade_id": "cell-af602b7c95f3425b",
          "locked": true,
          "points": 1,
          "schema_version": 1,
          "solution": false
        },
        "id": "I5uRRBG2klGa",
        "colab_type": "code",
        "colab": {}
      },
      "cell_type": "code",
      "source": [
        "####################################INTENTIONALLY BLANK FOR TESTING####################################"
      ],
      "execution_count": 0,
      "outputs": []
    },
    {
      "metadata": {
        "deletable": false,
        "nbgrader": {
          "checksum": "1c39f2568e8412943470386db1c9c8c3",
          "grade": false,
          "grade_id": "cell-1b237658152ec6c1",
          "locked": false,
          "schema_version": 1,
          "solution": true
        },
        "id": "Vw0goAWgklG4",
        "colab_type": "code",
        "colab": {}
      },
      "cell_type": "code",
      "source": [
        "def unique_common_items(list1, list2):\n",
        "    \"\"\"Produce the set of *unique* common items in two lists.\n",
        "\n",
        "    Given two lists, return a list of the *unique* common items shared between \n",
        "    the lists.\n",
        "\n",
        "    IMPORTANT: you may not use 'if ___ in ___' or the method 'index'.\n",
        "\n",
        "    Just like `common_items`, this should find [1, 2]:\n",
        "        >>> sorted(unique_common_items([1, 2, 3, 4], [1, 2]))\n",
        "        [1, 2]\n",
        "\n",
        "    However, now we only want unique items, so for these lists, don't show \n",
        "    more than 1 or 2 once:\n",
        "\n",
        "        >>> sorted(unique_common_items([1, 2, 3, 4], [1, 1, 2, 2]))\n",
        "        [1, 2]\n",
        "    \"\"\"\n",
        "# YOUR CODE HERE\n",
        "    common_list_unique = []\n",
        "    for item1 in list1:\n",
        "      for item2 in list2:\n",
        "        if item1 == item2 and item1 not in common_list_unique:\n",
        "          common_list_unique.append(item1)\n",
        "    return common_list_unique\n",
        "    raise NotImplementedError()"
      ],
      "execution_count": 0,
      "outputs": []
    },
    {
      "metadata": {
        "deletable": false,
        "editable": false,
        "nbgrader": {
          "checksum": "ddd2c7d380f9451f1819107f13a63406",
          "grade": true,
          "grade_id": "cell-42da43b784e498f2",
          "locked": true,
          "points": 1,
          "schema_version": 1,
          "solution": false
        },
        "id": "S2-UqtzcklG-",
        "colab_type": "code",
        "colab": {}
      },
      "cell_type": "code",
      "source": [
        "####################################INTENTIONALLY BLANK FOR TESTING####################################"
      ],
      "execution_count": 0,
      "outputs": []
    },
    {
      "metadata": {
        "deletable": false,
        "nbgrader": {
          "checksum": "c34eb45f44a310acb11950c95d2eb8fd",
          "grade": false,
          "grade_id": "cell-b8dcbf0bc0af08c2",
          "locked": false,
          "schema_version": 1,
          "solution": true
        },
        "id": "9uSgHDq6klHF",
        "colab_type": "code",
        "colab": {}
      },
      "cell_type": "code",
      "source": [
        "def sum_zero(list1):\n",
        "    \"\"\"Return set of x,y number pair lists from a list where x+y==0\n",
        "    Given a list of numbers, add up each individual pair of numbers.\n",
        "    Return a set of each pair of numbers that adds up to 0, where the smaller\n",
        "    value is the first in the pair.\n",
        "        \n",
        "    For example:\n",
        "        >>> sorted(sum_zero([1, 2, 3, -2, -1]) )\n",
        "        [[-2, 2], [-1, 1]]\n",
        "    \n",
        "    This should always be a unique list, even if there are\n",
        "    duplicates in the input list:\n",
        "    \n",
        "        >>> sorted( sum_zero([1, 2, 3, -2, -1, 1, 1]) )\n",
        "        [[-2, 2], [-1, 1]]\n",
        "    \n",
        "    Of course, if there are one or more zeros to pair together, \n",
        "    that's fine, too:\n",
        "        >>> sorted(sum_zero([1, 2, 3, -2, -1, 1, 0, 1, 0]) )\n",
        "        [[-2, 2], [-1, 1], [0, 0]]\n",
        "    \"\"\"\n",
        "# YOUR CODE HERE\n",
        "    pairs_list=[]\n",
        "    for num1 in list1:\n",
        "      for num2 in list1:\n",
        "        if num1+num2==0:\n",
        "          if sorted([num1, num2]) not in pairs_list:\n",
        "            pairs_list.append(sorted([num1, num2]))\n",
        "    return pairs_list\n",
        "    raise NotImplementedError()"
      ],
      "execution_count": 0,
      "outputs": []
    },
    {
      "metadata": {
        "deletable": false,
        "editable": false,
        "nbgrader": {
          "checksum": "ad93506362f3d0151e53d8cba68035e4",
          "grade": true,
          "grade_id": "cell-85063429a77205b6",
          "locked": true,
          "points": 1,
          "schema_version": 1,
          "solution": false
        },
        "id": "g_MKFwpuklHL",
        "colab_type": "code",
        "colab": {}
      },
      "cell_type": "code",
      "source": [
        "####################################INTENTIONALLY BLANK FOR TESTING####################################"
      ],
      "execution_count": 0,
      "outputs": []
    },
    {
      "metadata": {
        "deletable": false,
        "nbgrader": {
          "checksum": "67d730e1c20319a0139788d7653d9d30",
          "grade": false,
          "grade_id": "cell-c67204ecbed8311a",
          "locked": false,
          "schema_version": 1,
          "solution": true
        },
        "id": "IRchKWi2klHS",
        "colab_type": "code",
        "colab": {}
      },
      "cell_type": "code",
      "source": [
        "def find_duplicates(words):\n",
        "    \"\"\"Given a list of words, return the list with duplicates removed.\n",
        "    \n",
        "    For example:\n",
        "        >>> sorted(find_duplicates(\n",
        "        ...     [\"rose\", \"is\", \"a\", \"rose\", \"is\", \"a\", \"rose\"]))\n",
        "        ['a', 'is', 'rose']\n",
        "    \n",
        "    You should treat differently-capitalized words as different:\n",
        "        >>> sorted(find_duplicates(\n",
        "        ...     [\"Rose\", \"is\", \"a\", \"rose\", \"is\", \"a\", \"rose\"]))\n",
        "        ['Rose', 'a', 'is', 'rose']\n",
        "    \"\"\"\n",
        "# YOUR CODE HERE\n",
        "    dup=0\n",
        "    unique=[]\n",
        "    for word1 in words:\n",
        "      for word2 in words:\n",
        "        if word1 == word2:\n",
        "          dup+=1\n",
        "      if dup == 1:\n",
        "        unique.append(word1)\n",
        "    return unique\n",
        "    raise NotImplementedError()"
      ],
      "execution_count": 0,
      "outputs": []
    },
    {
      "metadata": {
        "deletable": false,
        "editable": false,
        "nbgrader": {
          "checksum": "e1167dcdabeb7fd4363944e4a26d1768",
          "grade": true,
          "grade_id": "cell-4838d1b78d150602",
          "locked": true,
          "points": 1,
          "schema_version": 1,
          "solution": false
        },
        "id": "QnYnpDczklHa",
        "colab_type": "code",
        "colab": {}
      },
      "cell_type": "code",
      "source": [
        "####################################INTENTIONALLY BLANK FOR TESTING####################################"
      ],
      "execution_count": 0,
      "outputs": []
    },
    {
      "metadata": {
        "deletable": false,
        "nbgrader": {
          "checksum": "40c628af3b64ee8475e28dbc5ed0b6af",
          "grade": false,
          "grade_id": "cell-d9b3147e6db58779",
          "locked": false,
          "schema_version": 1,
          "solution": true
        },
        "id": "hzEHzUfHklHi",
        "colab_type": "code",
        "colab": {}
      },
      "cell_type": "code",
      "source": [
        "def word_length(words):\n",
        "    \"\"\"Given list of words, return list of ascending [(len, [words])].\n",
        "    Given a list of words, return a list of tuples, ordered by word-length.\n",
        "    Each tuple should have two items--the length of the words for that \n",
        "    word-length, and the list of words of that word length. Sort the \n",
        "    dictionary by shortest length to longest length words.\n",
        "    \n",
        "    For example:\n",
        "        >>> word_length([\"ok\", \"an\", \"apple\", \"a\", \"day\"])\n",
        "        [(1, ['a']), (2, ['ok', 'an']), (3, ['day']), (5, ['apple'])]\n",
        "\n",
        "    \"\"\"\n",
        "\n",
        "# YOUR CODE HERE\n",
        "    dic = {}\n",
        "    for word in words:\n",
        "      lenw=len(word)\n",
        "      if lenw not in dic:\n",
        "        dic[lenw]=[word]\n",
        "      else:\n",
        "        dic[lenw].append(word)\n",
        "    return dic.sort().items\n",
        "    raise NotImplementedError()"
      ],
      "execution_count": 0,
      "outputs": []
    },
    {
      "metadata": {
        "deletable": false,
        "editable": false,
        "nbgrader": {
          "checksum": "a70c60404d275141a03e3fa011e7b704",
          "grade": true,
          "grade_id": "cell-044d288559318786",
          "locked": true,
          "points": 1,
          "schema_version": 1,
          "solution": false
        },
        "id": "HuXa3hq3klHy",
        "colab_type": "code",
        "colab": {}
      },
      "cell_type": "code",
      "source": [
        "####################################INTENTIONALLY BLANK FOR TESTING####################################"
      ],
      "execution_count": 0,
      "outputs": []
    },
    {
      "metadata": {
        "deletable": false,
        "nbgrader": {
          "checksum": "059ab7ec22ee478707bbc4a9ad1136b0",
          "grade": false,
          "grade_id": "cell-aa16264440491cda",
          "locked": false,
          "schema_version": 1,
          "solution": true
        },
        "id": "yPYDC9ofklJQ",
        "colab_type": "code",
        "colab": {}
      },
      "cell_type": "code",
      "source": [
        "def adv_word_length_sorted_words(words):\n",
        "    \"\"\"Given list of words, return list of ascending [(len, [sorted-words])].\n",
        "    \n",
        "    Given a list of words, return a list of tuples, ordered by word-length.\n",
        "    Each tuple should have two items--the length of the words for that \n",
        "    word-length, and the list of words of that word length. The list of words\n",
        "    for that length should be sorted alphabetically.\n",
        "    \n",
        "    For example:\n",
        "        >>> adv_word_length_sorted_words([\"ok\", \"an\", \"apple\", \"a\", \"day\"])\n",
        "        [(1, ['a']), (2, ['an', 'ok']), (3, ['day']), (5, ['apple'])]\n",
        "    \"\"\"\n",
        "\n",
        "# YOUR CODE HERE\n",
        "    dic = {}\n",
        "    for word in words:\n",
        "      lenw=len(word)\n",
        "      if lenw not in dic:\n",
        "        dic[lenw]=[word]\n",
        "      else:\n",
        "        dic[lenw].append(word)\n",
        "    for key in dic:\n",
        "      dic[key].sort()\n",
        "    return dic.sort().items\n",
        "    raise NotImplementedError()"
      ],
      "execution_count": 0,
      "outputs": []
    },
    {
      "metadata": {
        "deletable": false,
        "editable": false,
        "nbgrader": {
          "checksum": "7b80f039a34748e7a173eddeea1dd0fc",
          "grade": true,
          "grade_id": "cell-8ab8055da8a9a4d6",
          "locked": true,
          "points": 1,
          "schema_version": 1,
          "solution": false
        },
        "id": "R8iXoX3LklJp",
        "colab_type": "code",
        "colab": {}
      },
      "cell_type": "code",
      "source": [
        "####################################INTENTIONALLY BLANK FOR TESTING####################################"
      ],
      "execution_count": 0,
      "outputs": []
    },
    {
      "metadata": {
        "deletable": false,
        "nbgrader": {
          "checksum": "3b316d43059ffb17c2619f33815893c3",
          "grade": false,
          "grade_id": "cell-927da46837cffc7b",
          "locked": false,
          "schema_version": 1,
          "solution": true
        },
        "id": "v4TmmU6sklKU",
        "colab_type": "code",
        "colab": {}
      },
      "cell_type": "code",
      "source": [
        "def pirate_talk(phrase):\n",
        "    \"\"\"Translate phrase to pirate talk.\n",
        "    \n",
        "    Given a phrase, translate each word to the Pirate-speak equivalent.\n",
        "    Words that cannot be translated into Pirate-speak should pass through\n",
        "    unchanged. Return the resulting sentence.\n",
        "   \n",
        "    Here's a table of English to Pirate translations:\n",
        "    English     Pirate\n",
        "    ----------  ----------------\n",
        "    sir         matey\n",
        "    hotel       fleabag inn\n",
        "    student     swabbie\n",
        "    boy         matey\n",
        "    madam       proud beauty\n",
        "    professor   foul blaggart\n",
        "    restaurant  galley\n",
        "    your        yer\n",
        "    excuse      arr\n",
        "    students    swabbies\n",
        "    are         be\n",
        "    lawyer      foul blaggart\n",
        "    the         th'\n",
        "    restroom    head\n",
        "    my          me\n",
        "    hello       avast\n",
        "    is          be\n",
        "    man         matey\n",
        "    \n",
        "    For example:\n",
        "        >>> pirate_talk(\"my student is not a man\")\n",
        "        'me swabbie be not a matey'\n",
        "    \n",
        "    You should treat words with punctuation as if they were different\n",
        "    words:\n",
        "        >>> pirate_talk(\"my student is not a man!\")\n",
        "        'me swabbie be not a man!'\n",
        "    \"\"\"\n",
        "# YOUR CODE HERE\n",
        "    dic={\n",
        "        'sir'       : 'matey',\n",
        "        'hotel'     : 'fleabag inn',\n",
        "        'student'   : 'swabbie',\n",
        "        'boy'       : 'matey',\n",
        "        'madam'     : 'proud beauty',\n",
        "        'professor' : 'foul blaggart',\n",
        "        'restaurant': 'galley',\n",
        "        'your'      : 'yer',\n",
        "        'excuse'    : 'arr',\n",
        "        'students'  : 'swabbies',\n",
        "        'are'       : 'be',\n",
        "        'lawyer'    : 'foul blaggart',\n",
        "        'the'       : 'th\\'',\n",
        "        'restroom'  : 'head',\n",
        "        'my'        : 'me',\n",
        "        'hello'     : 'avast',\n",
        "        'is'        : 'be',\n",
        "        'man'       : 'matey',\n",
        "    }\n",
        "    splited_string = phrase.split(' ')\n",
        "    for word in splited_string:\n",
        "      if word in dic:\n",
        "        word=dic[word]\n",
        "    return splited_string.join(' ')\n",
        "    raise NotImplementedError()"
      ],
      "execution_count": 0,
      "outputs": []
    },
    {
      "metadata": {
        "deletable": false,
        "editable": false,
        "nbgrader": {
          "checksum": "c4d82015f0ba58353ed1b76b371f3a06",
          "grade": true,
          "grade_id": "cell-cf29f5e4edbcc701",
          "locked": true,
          "points": 1,
          "schema_version": 1,
          "solution": false
        },
        "id": "zyoOZlPmklKo",
        "colab_type": "code",
        "colab": {}
      },
      "cell_type": "code",
      "source": [
        "####################################INTENTIONALLY BLANK FOR TESTING####################################"
      ],
      "execution_count": 0,
      "outputs": []
    }
  ]
}